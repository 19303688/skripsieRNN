{
 "cells": [
  {
   "cell_type": "code",
   "execution_count": 1,
   "metadata": {},
   "outputs": [
    {
     "name": "stderr",
     "output_type": "stream",
     "text": [
      "/var/folders/nc/qvnyyrpd0bs8ck8vt79yvt080000gn/T/ipykernel_8143/1939897653.py:12: DeprecationWarning: Please use `gaussian_filter1d` from the `scipy.ndimage` namespace, the `scipy.ndimage.filters` namespace is deprecated.\n",
      "  from scipy.ndimage.filters import gaussian_filter1d\n"
     ]
    },
    {
     "name": "stdout",
     "output_type": "stream",
     "text": [
      "Python Platform: macOS-13.4-arm64-arm-64bit\n",
      "Tensor Flow Version: 2.9.0\n",
      "Keras Version: 2.9.0\n",
      "\n",
      "Python 3.10.9 | packaged by conda-forge | (main, Feb  2 2023, 20:26:08) [Clang 14.0.6 ]\n",
      "Pandas 1.5.3\n",
      "Scikit-Learn 1.2.2\n",
      "GPU is available\n"
     ]
    }
   ],
   "source": [
    "import sys\n",
    "\n",
    "import tensorflow.keras\n",
    "import pandas as pd\n",
    "import numpy as np\n",
    "import sklearn as sk\n",
    "import tensorflow as tf\n",
    "from tensorflow import keras\n",
    "from tensorflow.keras import layers\n",
    "import platform\n",
    "from sklearn.model_selection import train_test_split\n",
    "from scipy.ndimage.filters import gaussian_filter1d\n",
    "from sklearn.preprocessing import MinMaxScaler, StandardScaler\n",
    "import matplotlib.pyplot as plt\n",
    "\n",
    "\n",
    "print(f\"Python Platform: {platform.platform()}\")\n",
    "print(f\"Tensor Flow Version: {tf.__version__}\")\n",
    "print(f\"Keras Version: {tensorflow.keras.__version__}\")\n",
    "print()\n",
    "print(f\"Python {sys.version}\")\n",
    "print(f\"Pandas {pd.__version__}\")\n",
    "print(f\"Scikit-Learn {sk.__version__}\")\n",
    "gpu = len(tf.config.list_physical_devices('GPU'))>0\n",
    "print(\"GPU is\", \"available\" if gpu else \"NOT AVAILABLE\")\n"
   ]
  },
  {
   "cell_type": "code",
   "execution_count": 4,
   "metadata": {},
   "outputs": [],
   "source": [
    "#Load data\n",
    "df = pd.read_csv('data_cleaned_R3.csv')\n",
    "\n",
    "df.loc[df[\"Coal Input\"] < 30] = 0\n",
    "\n",
    "df = df.dropna()\n",
    "\n",
    "#TODO Convert to a stats term?\n",
    "df['Power Plant On'] = (df['Coal Input'] >= 30).astype(int)\n",
    "\n",
    "inputs = df.iloc[:, :11].copy()\n",
    "\n",
    "# Copy the next 5 rows into outputs\n",
    "outputs = df.iloc[:, 11:16].copy()\n",
    "\n",
    "off_index = df.iloc[:, 16].copy()\n"
   ]
  },
  {
   "cell_type": "code",
   "execution_count": 5,
   "metadata": {},
   "outputs": [],
   "source": [
    "def create_3d_array(dataframe, time_window):\n",
    "    # Create a new 3-dimensional array with the same dimensions as the dataframe\n",
    "    array_3d = np.zeros((dataframe.shape[0], dataframe.shape[1], time_window))\n",
    "    \n",
    "    # Iterate over each column in the dataframe\n",
    "    for col_idx, col in enumerate(dataframe.columns):\n",
    "        # Get the values of the current column\n",
    "        current_col = dataframe[col].values\n",
    "        \n",
    "        # Iterate over each time step\n",
    "        for t in range(time_window):\n",
    "            # Create a shifted version of the column\n",
    "            shifted_col = np.roll(current_col, t) if t < len(current_col) else np.nan\n",
    "            \n",
    "            # Assign the shifted column values to the corresponding positions in the 3D array\n",
    "            array_3d[:, col_idx, t] = shifted_col\n",
    "    \n",
    "    return array_3d"
   ]
  },
  {
   "cell_type": "code",
   "execution_count": 6,
   "metadata": {},
   "outputs": [],
   "source": [
    "outputs_3d = create_3d_array(outputs, 2)\n",
    "inputs_3d = create_3d_array(inputs, 5)\n",
    "print(inputs_3d.shape)\n",
    "print(\"inputs_3d.shape\")\n",
    "print(outputs_3d.shape)\n",
    "print(\"outputs_3d.shape\")"
   ]
  },
  {
   "cell_type": "code",
   "execution_count": 19,
   "metadata": {},
   "outputs": [
    {
     "name": "stdout",
     "output_type": "stream",
     "text": [
      "0        False\n",
      "1        False\n",
      "2        False\n",
      "3        False\n",
      "4        False\n",
      "         ...  \n",
      "32763    False\n",
      "32764    False\n",
      "32765    False\n",
      "32766    False\n",
      "32767    False\n",
      "Name: Power Plant On, Length: 32768, dtype: bool\n",
      "on_inputs.shape\n",
      "(22565, 11, 5)\n",
      "on_outputs.shape\n",
      "(22565, 5, 2)\n"
     ]
    }
   ],
   "source": [
    "# Filter out when the plant is off.\n",
    "mask  = off_index[:] != 0\n",
    "print(mask)\n",
    "on_inputs = inputs_3d[mask]\n",
    "on_outputs = outputs_3d[mask]\n",
    "print(\"on_inputs.shape\")\n",
    "print(on_inputs.shape)\n",
    "print(\"on_outputs.shape\")\n",
    "print(on_outputs.shape)\n"
   ]
  },
  {
   "cell_type": "code",
   "execution_count": 28,
   "metadata": {},
   "outputs": [
    {
     "name": "stdout",
     "output_type": "stream",
     "text": [
      "padded_array.shape\n",
      "(22565, 11, 5)\n"
     ]
    }
   ],
   "source": [
    "#add zeros to the output array before the scaling\n",
    "padded_array = np.pad(on_outputs, ((0,0),(0,6),(0,3)), 'constant')\n",
    "print(\"padded_array.shape\")\n",
    "print(padded_array.shape)\n"
   ]
  },
  {
   "cell_type": "code",
   "execution_count": 37,
   "metadata": {},
   "outputs": [
    {
     "name": "stdout",
     "output_type": "stream",
     "text": [
      "scaled_inputs.shape\n",
      "(22565, 11, 5)\n",
      "scaled_outputs.shape\n",
      "(22565, 11, 5)\n"
     ]
    }
   ],
   "source": [
    "#Scale the data\n",
    "\n",
    "scaler = MinMaxScaler()\n",
    "reshaped_inputs = on_inputs.reshape(-1, on_inputs.shape[-1])\n",
    "\n",
    "scaler.fit(reshaped_inputs)\n",
    "scaled_inputs = scaler.transform(reshaped_inputs)\n",
    "scaled_inputs = scaled_inputs.reshape(on_inputs.shape)\n",
    "print(\"scaled_inputs.shape\")\n",
    "print(scaled_inputs.shape)\n",
    "\n",
    "reshaped_padded_array = padded_array.reshape(-1, padded_array.shape[-1])\n",
    "scaled_outputs = scaler.transform(reshaped_padded_array)\n",
    "scaled_outputs = scaled_outputs.reshape(padded_array.shape)\n",
    "print(\"scaled_outputs.shape\")\n",
    "print(scaled_outputs.shape)\n",
    "\n",
    "scaled_outputs = scaled_outputs[:on_outputs.shape[0], :on_outputs.shape[1], :on_outputs.shape[2]]\n"
   ]
  },
  {
   "cell_type": "code",
   "execution_count": 38,
   "metadata": {},
   "outputs": [
    {
     "name": "stdout",
     "output_type": "stream",
     "text": [
      "scaled_outputs.shape\n",
      "(22565, 5, 2)\n"
     ]
    }
   ],
   "source": [
    "\n",
    "# Remove the added dimensions\n",
    "scaled_outputs = scaled_outputs[:on_outputs.shape[0], :on_outputs.shape[1], :on_outputs.shape[2]]\n",
    "\n",
    "# Remove the padded zeros\n",
    "#scaled_outputs = np.trim_zeros(scaled_outputs, 'b')\n",
    "\n",
    "\n",
    "print(\"scaled_outputs.shape\")\n",
    "print(scaled_outputs.shape)"
   ]
  },
  {
   "cell_type": "code",
   "execution_count": 40,
   "metadata": {},
   "outputs": [
    {
     "name": "stdout",
     "output_type": "stream",
     "text": [
      "X_train.shape\n",
      "(20308, 11, 5)\n",
      "X_test.shape\n",
      "(2257, 11, 5)\n",
      "Y_train.shape\n",
      "(20308, 5, 2)\n",
      "Y_test.shape\n"
     ]
    }
   ],
   "source": [
    "#Split data into training and testing\n",
    "X_train, X_test, Y_train, Y_test = train_test_split(scaled_inputs, scaled_outputs, test_size=0.1, shuffle=False)\n",
    "print(\"X_train.shape\")\n",
    "print(X_train.shape)\n",
    "print(\"X_test.shape\")\n",
    "print(X_test.shape)\n",
    "print(\"Y_train.shape\")\n",
    "print(Y_train.shape)    \n",
    "print(\"Y_test.shape\")"
   ]
  },
  {
   "cell_type": "code",
   "execution_count": 55,
   "metadata": {},
   "outputs": [],
   "source": [
    "#RNN Code\n",
    "class RNNModel:\n",
    "    def __init__(self):\n",
    "        self.n_hidden_units_per_layer = None\n",
    "        self.learning_rate = None\n",
    "        self.eta = None\n",
    "        self.loss = None\n",
    "        self.metrics = None\n",
    "        self.epochs = None\n",
    "        self.batch_size = None\n",
    "        self.decay_rate = None\n",
    "        self.n_encoder_depth = None\n",
    "        self.n_decoder_depth = None\n",
    "        self.n_int_layer_depth = None\n",
    "        self.model = None\n",
    "        self.history = None\n",
    "\n",
    "    def set_hyperparameters(self, n_hidden_units_per_layer, learning_rate, eta, loss, metrics, epochs, batch_size,\n",
    "                            decay_rate, n_encoder_depth, n_decoder_depth, n_int_layer_depth):\n",
    "        self.n_hidden_units_per_layer = n_hidden_units_per_layer\n",
    "        self.learning_rate = learning_rate\n",
    "        self.eta = eta\n",
    "        self.loss = loss\n",
    "        self.metrics = metrics\n",
    "        self.epochs = epochs\n",
    "        self.batch_size = batch_size\n",
    "        self.decay_rate = decay_rate\n",
    "        self.n_encoder_depth = n_encoder_depth\n",
    "        self.n_decoder_depth = n_decoder_depth\n",
    "        self.n_int_layer_depth = n_int_layer_depth\n",
    "\n",
    "    def build_model(self, X_shape, Y_shape):\n",
    "        encoder_inputs = keras.layers.Input(shape=(None, X_shape[2]))\n",
    "        encoder = keras.layers.GRU(self.n_hidden_units_per_layer, return_state=True,\n",
    "                                    activation='relu',\n",
    "                                    kernel_initializer=keras.initializers.glorot_normal(seed=2),\n",
    "                                    activity_regularizer=keras.regularizers.l2(self.eta))\n",
    "        encoder_outputs, state_h = encoder(encoder_inputs)\n",
    "        encoder_states = [state_h]\n",
    "\n",
    "        decoder_inputs = keras.layers.Input(shape=(None, Y_shape[2]))\n",
    "        decoder_gru = keras.layers.GRU(self.n_hidden_units_per_layer, return_sequences=True,\n",
    "                                         return_state=True, activation='relu',\n",
    "                                         kernel_initializer=keras.initializers.glorot_normal(seed=2),\n",
    "                                         activity_regularizer=keras.regularizers.l2(self.eta))\n",
    "        decoder_outputs, _ = decoder_gru(decoder_inputs, initial_state=encoder_states)\n",
    "        decoder_dense = keras.layers.TimeDistributed(keras.layers.Dense(Y_shape[2],\n",
    "                                                                         kernel_initializer=keras.initializers.glorot_normal(\n",
    "                                                                             seed=2),\n",
    "                                                                         activity_regularizer=keras.regularizers.l2(\n",
    "                                                                             self.eta)))\n",
    "        decoder_outputs = decoder_dense(decoder_outputs)\n",
    "\n",
    "        self.model = keras.Model(inputs=[encoder_inputs, decoder_inputs], outputs=decoder_outputs)\n",
    "\n",
    "    def compile_model(self):\n",
    "        optimizer = keras.optimizers.Adam(lr=self.learning_rate, beta_1=0.9, beta_2=0.999,\n",
    "                                          epsilon=1E-8, decay=self.decay_rate)\n",
    "        self.model.compile(loss=self.loss, optimizer=optimizer, metrics=[self.metrics])\n",
    "\n",
    "    def train(self, X, Y):\n",
    "        self.history = self.model.fit([X, Y], Y, epochs=self.epochs, batch_size=self.batch_size,\n",
    "                                        validation_split=0.2,\n",
    "                                        shuffle=False)\n",
    "\n",
    "    def get_model(self):\n",
    "        return self.model\n",
    "\n",
    "    def get_history(self):\n",
    "        return self.history"
   ]
  },
  {
   "cell_type": "code",
   "execution_count": 56,
   "metadata": {},
   "outputs": [
    {
     "name": "stdout",
     "output_type": "stream",
     "text": [
      "WARNING:tensorflow:Layer gru_3 will not use cuDNN kernels since it doesn't meet the criteria. It will use a generic GPU kernel as fallback when running on GPU.\n",
      "WARNING:tensorflow:Layer gru_4 will not use cuDNN kernels since it doesn't meet the criteria. It will use a generic GPU kernel as fallback when running on GPU.\n",
      "Epoch 1/50\n"
     ]
    },
    {
     "name": "stderr",
     "output_type": "stream",
     "text": [
      "/Users/calvindurr/miniconda3/envs/tensorflow/lib/python3.10/site-packages/keras/optimizers/optimizer_v2/adam.py:110: UserWarning: The `lr` argument is deprecated, use `learning_rate` instead.\n",
      "  super(Adam, self).__init__(name, **kwargs)\n",
      "2023-06-11 20:00:52.719503: I tensorflow/core/grappler/optimizers/custom_graph_optimizer_registry.cc:113] Plugin optimizer for device_type GPU is enabled.\n"
     ]
    },
    {
     "name": "stdout",
     "output_type": "stream",
     "text": [
      "254/254 [==============================] - ETA: 0s - loss: 0.0937 - mae: 0.2138 - mape: 357.9014 - rmse: 0.3060"
     ]
    },
    {
     "name": "stderr",
     "output_type": "stream",
     "text": [
      "2023-06-11 20:01:32.622762: I tensorflow/core/grappler/optimizers/custom_graph_optimizer_registry.cc:113] Plugin optimizer for device_type GPU is enabled.\n"
     ]
    },
    {
     "name": "stdout",
     "output_type": "stream",
     "text": [
      "254/254 [==============================] - 43s 161ms/step - loss: 0.0937 - mae: 0.2138 - mape: 357.9014 - rmse: 0.3060 - val_loss: 0.0098 - val_mae: 0.0863 - val_mape: 166.4423 - val_rmse: 0.0990\n",
      "Epoch 2/50\n",
      "254/254 [==============================] - 39s 155ms/step - loss: 0.0041 - mae: 0.0481 - mape: 134.3855 - rmse: 0.0641 - val_loss: 8.8802e-04 - val_mae: 0.0210 - val_mape: 27.9976 - val_rmse: 0.0298\n",
      "Epoch 3/50\n",
      "254/254 [==============================] - 40s 157ms/step - loss: 5.7410e-04 - mae: 0.0151 - mape: 55.6979 - rmse: 0.0240 - val_loss: 1.7446e-04 - val_mae: 0.0092 - val_mape: 20.4120 - val_rmse: 0.0132\n",
      "Epoch 4/50\n",
      "254/254 [==============================] - 39s 155ms/step - loss: 2.3760e-04 - mae: 0.0091 - mape: 46.8902 - rmse: 0.0154 - val_loss: 9.9839e-05 - val_mae: 0.0070 - val_mape: 17.1080 - val_rmse: 0.0100\n",
      "Epoch 5/50\n",
      "254/254 [==============================] - 40s 156ms/step - loss: 1.7528e-04 - mae: 0.0074 - mape: 43.7856 - rmse: 0.0132 - val_loss: 7.8261e-05 - val_mae: 0.0061 - val_mape: 15.8444 - val_rmse: 0.0088\n",
      "Epoch 6/50\n",
      "254/254 [==============================] - 38s 149ms/step - loss: 1.5104e-04 - mae: 0.0065 - mape: 41.9618 - rmse: 0.0123 - val_loss: 6.6313e-05 - val_mae: 0.0056 - val_mape: 15.1760 - val_rmse: 0.0081\n",
      "Epoch 7/50\n",
      "254/254 [==============================] - 38s 151ms/step - loss: 1.3674e-04 - mae: 0.0060 - mape: 40.9412 - rmse: 0.0117 - val_loss: 5.8000e-05 - val_mae: 0.0052 - val_mape: 14.6340 - val_rmse: 0.0076\n",
      "Epoch 8/50\n",
      "254/254 [==============================] - 39s 154ms/step - loss: 1.2627e-04 - mae: 0.0056 - mape: 39.9941 - rmse: 0.0112 - val_loss: 5.1852e-05 - val_mae: 0.0049 - val_mape: 14.2049 - val_rmse: 0.0072\n",
      "Epoch 9/50\n",
      "254/254 [==============================] - 38s 149ms/step - loss: 1.1780e-04 - mae: 0.0052 - mape: 38.8998 - rmse: 0.0108 - val_loss: 4.4289e-05 - val_mae: 0.0045 - val_mape: 13.5474 - val_rmse: 0.0066\n",
      "Epoch 10/50\n",
      "254/254 [==============================] - 41s 160ms/step - loss: 1.0855e-04 - mae: 0.0049 - mape: 37.5553 - rmse: 0.0104 - val_loss: 3.9525e-05 - val_mae: 0.0043 - val_mape: 13.0731 - val_rmse: 0.0063\n",
      "Epoch 11/50\n",
      "254/254 [==============================] - 39s 153ms/step - loss: 1.0130e-04 - mae: 0.0046 - mape: 36.6472 - rmse: 0.0101 - val_loss: 3.5604e-05 - val_mae: 0.0040 - val_mape: 12.5961 - val_rmse: 0.0060\n",
      "Epoch 12/50\n",
      "254/254 [==============================] - 39s 153ms/step - loss: 9.4747e-05 - mae: 0.0044 - mape: 35.7085 - rmse: 0.0097 - val_loss: 3.2592e-05 - val_mae: 0.0038 - val_mape: 12.2214 - val_rmse: 0.0057\n",
      "Epoch 13/50\n",
      "254/254 [==============================] - 38s 149ms/step - loss: 8.8669e-05 - mae: 0.0042 - mape: 34.6854 - rmse: 0.0094 - val_loss: 3.0120e-05 - val_mae: 0.0036 - val_mape: 11.9126 - val_rmse: 0.0055\n",
      "Epoch 14/50\n",
      "254/254 [==============================] - 40s 159ms/step - loss: 8.2742e-05 - mae: 0.0040 - mape: 33.5934 - rmse: 0.0091 - val_loss: 2.7879e-05 - val_mae: 0.0035 - val_mape: 11.5941 - val_rmse: 0.0053\n",
      "Epoch 15/50\n",
      "254/254 [==============================] - 39s 155ms/step - loss: 7.6954e-05 - mae: 0.0039 - mape: 32.4783 - rmse: 0.0088 - val_loss: 2.5744e-05 - val_mae: 0.0034 - val_mape: 11.2553 - val_rmse: 0.0051\n",
      "Epoch 16/50\n",
      "254/254 [==============================] - 40s 157ms/step - loss: 7.1224e-05 - mae: 0.0037 - mape: 31.2928 - rmse: 0.0084 - val_loss: 2.3742e-05 - val_mae: 0.0032 - val_mape: 10.8737 - val_rmse: 0.0049\n",
      "Epoch 17/50\n",
      "254/254 [==============================] - 39s 152ms/step - loss: 6.5471e-05 - mae: 0.0036 - mape: 30.0459 - rmse: 0.0081 - val_loss: 2.1679e-05 - val_mae: 0.0031 - val_mape: 10.4535 - val_rmse: 0.0046\n",
      "Epoch 18/50\n",
      "254/254 [==============================] - 39s 155ms/step - loss: 5.9671e-05 - mae: 0.0035 - mape: 28.7378 - rmse: 0.0077 - val_loss: 2.0111e-05 - val_mae: 0.0030 - val_mape: 10.0933 - val_rmse: 0.0045\n",
      "Epoch 19/50\n",
      "254/254 [==============================] - 40s 157ms/step - loss: 5.4278e-05 - mae: 0.0033 - mape: 27.4302 - rmse: 0.0074 - val_loss: 1.8673e-05 - val_mae: 0.0029 - val_mape: 9.7723 - val_rmse: 0.0043\n",
      "Epoch 20/50\n",
      "254/254 [==============================] - 42s 163ms/step - loss: 4.9289e-05 - mae: 0.0032 - mape: 26.1829 - rmse: 0.0070 - val_loss: 1.7305e-05 - val_mae: 0.0028 - val_mape: 9.4788 - val_rmse: 0.0041\n",
      "Epoch 21/50\n",
      "254/254 [==============================] - 41s 163ms/step - loss: 4.4779e-05 - mae: 0.0031 - mape: 24.9971 - rmse: 0.0067 - val_loss: 1.5856e-05 - val_mae: 0.0027 - val_mape: 9.1766 - val_rmse: 0.0040\n",
      "Epoch 22/50\n",
      "254/254 [==============================] - 42s 164ms/step - loss: 4.0491e-05 - mae: 0.0030 - mape: 23.7299 - rmse: 0.0064 - val_loss: 1.4397e-05 - val_mae: 0.0026 - val_mape: 8.8248 - val_rmse: 0.0038\n",
      "Epoch 23/50\n",
      "254/254 [==============================] - 42s 167ms/step - loss: 3.6417e-05 - mae: 0.0029 - mape: 22.3775 - rmse: 0.0060 - val_loss: 1.3042e-05 - val_mae: 0.0025 - val_mape: 8.4509 - val_rmse: 0.0036\n",
      "Epoch 24/50\n",
      "254/254 [==============================] - 41s 162ms/step - loss: 3.2531e-05 - mae: 0.0028 - mape: 20.9963 - rmse: 0.0057 - val_loss: 1.1805e-05 - val_mae: 0.0024 - val_mape: 8.0752 - val_rmse: 0.0034\n",
      "Epoch 25/50\n",
      "254/254 [==============================] - 43s 168ms/step - loss: 2.8997e-05 - mae: 0.0027 - mape: 19.6337 - rmse: 0.0054 - val_loss: 1.0682e-05 - val_mae: 0.0023 - val_mape: 7.7223 - val_rmse: 0.0033\n",
      "Epoch 26/50\n",
      "254/254 [==============================] - 40s 157ms/step - loss: 2.5899e-05 - mae: 0.0026 - mape: 18.3609 - rmse: 0.0051 - val_loss: 9.8016e-06 - val_mae: 0.0022 - val_mape: 7.4077 - val_rmse: 0.0031\n",
      "Epoch 27/50\n",
      "254/254 [==============================] - 42s 167ms/step - loss: 2.2826e-05 - mae: 0.0025 - mape: 17.1407 - rmse: 0.0048 - val_loss: 9.1740e-06 - val_mae: 0.0022 - val_mape: 7.1378 - val_rmse: 0.0030\n",
      "Epoch 28/50\n",
      "254/254 [==============================] - 44s 174ms/step - loss: 1.9253e-05 - mae: 0.0023 - mape: 15.7525 - rmse: 0.0044 - val_loss: 8.1766e-06 - val_mae: 0.0021 - val_mape: 6.7295 - val_rmse: 0.0028\n",
      "Epoch 29/50\n",
      "254/254 [==============================] - 45s 177ms/step - loss: 1.4957e-05 - mae: 0.0022 - mape: 14.1687 - rmse: 0.0039 - val_loss: 6.8291e-06 - val_mae: 0.0019 - val_mape: 6.1887 - val_rmse: 0.0026\n",
      "Epoch 30/50\n",
      "254/254 [==============================] - 46s 180ms/step - loss: 9.9428e-06 - mae: 0.0019 - mape: 12.5365 - rmse: 0.0031 - val_loss: 5.3579e-06 - val_mae: 0.0016 - val_mape: 5.7889 - val_rmse: 0.0023\n",
      "Epoch 31/50\n",
      "254/254 [==============================] - 46s 179ms/step - loss: 8.0572e-06 - mae: 0.0018 - mape: 11.4647 - rmse: 0.0028 - val_loss: 4.9019e-06 - val_mae: 0.0016 - val_mape: 5.5432 - val_rmse: 0.0022\n",
      "Epoch 32/50\n",
      "254/254 [==============================] - 55s 215ms/step - loss: 7.2028e-06 - mae: 0.0017 - mape: 10.6514 - rmse: 0.0027 - val_loss: 4.7589e-06 - val_mae: 0.0016 - val_mape: 5.4177 - val_rmse: 0.0022\n",
      "Epoch 33/50\n",
      "254/254 [==============================] - 51s 201ms/step - loss: 6.5934e-06 - mae: 0.0017 - mape: 9.8970 - rmse: 0.0025 - val_loss: 4.5680e-06 - val_mae: 0.0016 - val_mape: 5.2868 - val_rmse: 0.0021\n",
      "Epoch 34/50\n",
      "254/254 [==============================] - 50s 196ms/step - loss: 6.1796e-06 - mae: 0.0017 - mape: 9.2926 - rmse: 0.0025 - val_loss: 4.3183e-06 - val_mae: 0.0015 - val_mape: 5.1397 - val_rmse: 0.0020\n",
      "Epoch 35/50\n",
      "254/254 [==============================] - 46s 181ms/step - loss: 5.8989e-06 - mae: 0.0017 - mape: 8.8222 - rmse: 0.0024 - val_loss: 4.1355e-06 - val_mae: 0.0015 - val_mape: 5.0471 - val_rmse: 0.0020\n",
      "Epoch 36/50\n",
      "254/254 [==============================] - 49s 194ms/step - loss: 5.6931e-06 - mae: 0.0016 - mape: 8.4821 - rmse: 0.0024 - val_loss: 3.9955e-06 - val_mae: 0.0015 - val_mape: 4.9889 - val_rmse: 0.0020\n",
      "Epoch 37/50\n",
      "254/254 [==============================] - 49s 192ms/step - loss: 5.5138e-06 - mae: 0.0016 - mape: 8.2552 - rmse: 0.0023 - val_loss: 3.8594e-06 - val_mae: 0.0014 - val_mape: 4.9235 - val_rmse: 0.0019\n",
      "Epoch 38/50\n",
      "254/254 [==============================] - 50s 196ms/step - loss: 5.3499e-06 - mae: 0.0016 - mape: 8.1210 - rmse: 0.0023 - val_loss: 3.7329e-06 - val_mae: 0.0014 - val_mape: 4.8516 - val_rmse: 0.0019\n",
      "Epoch 39/50\n",
      "254/254 [==============================] - 49s 193ms/step - loss: 5.1945e-06 - mae: 0.0016 - mape: 8.0242 - rmse: 0.0023 - val_loss: 3.6356e-06 - val_mae: 0.0014 - val_mape: 4.7790 - val_rmse: 0.0019\n",
      "Epoch 40/50\n",
      "254/254 [==============================] - 49s 195ms/step - loss: 5.0458e-06 - mae: 0.0016 - mape: 7.9403 - rmse: 0.0022 - val_loss: 3.5620e-06 - val_mae: 0.0014 - val_mape: 4.7126 - val_rmse: 0.0019\n",
      "Epoch 41/50\n",
      "254/254 [==============================] - 56s 220ms/step - loss: 4.8994e-06 - mae: 0.0016 - mape: 7.8553 - rmse: 0.0022 - val_loss: 3.4949e-06 - val_mae: 0.0014 - val_mape: 4.6512 - val_rmse: 0.0018\n",
      "Epoch 42/50\n",
      "254/254 [==============================] - 59s 231ms/step - loss: 4.7537e-06 - mae: 0.0015 - mape: 7.7765 - rmse: 0.0022 - val_loss: 3.4127e-06 - val_mae: 0.0014 - val_mape: 4.5865 - val_rmse: 0.0018\n",
      "Epoch 43/50\n",
      "254/254 [==============================] - 63s 248ms/step - loss: 4.6062e-06 - mae: 0.0015 - mape: 7.6885 - rmse: 0.0021 - val_loss: 3.2994e-06 - val_mae: 0.0013 - val_mape: 4.5130 - val_rmse: 0.0018\n",
      "Epoch 44/50\n",
      "254/254 [==============================] - 64s 254ms/step - loss: 4.4541e-06 - mae: 0.0015 - mape: 7.5924 - rmse: 0.0021 - val_loss: 3.1581e-06 - val_mae: 0.0013 - val_mape: 4.4316 - val_rmse: 0.0017\n",
      "Epoch 45/50\n",
      "254/254 [==============================] - 66s 258ms/step - loss: 4.2917e-06 - mae: 0.0015 - mape: 7.4876 - rmse: 0.0020 - val_loss: 3.0175e-06 - val_mae: 0.0013 - val_mape: 4.3518 - val_rmse: 0.0017\n",
      "Epoch 46/50\n",
      "254/254 [==============================] - 65s 257ms/step - loss: 4.1171e-06 - mae: 0.0014 - mape: 7.3750 - rmse: 0.0020 - val_loss: 2.9052e-06 - val_mae: 0.0012 - val_mape: 4.2769 - val_rmse: 0.0017\n",
      "Epoch 47/50\n",
      "254/254 [==============================] - 69s 272ms/step - loss: 3.9401e-06 - mae: 0.0014 - mape: 7.2585 - rmse: 0.0020 - val_loss: 2.8207e-06 - val_mae: 0.0012 - val_mape: 4.1994 - val_rmse: 0.0016\n",
      "Epoch 48/50\n",
      "254/254 [==============================] - 70s 276ms/step - loss: 3.7814e-06 - mae: 0.0013 - mape: 7.1435 - rmse: 0.0019 - val_loss: 2.7677e-06 - val_mae: 0.0012 - val_mape: 4.1233 - val_rmse: 0.0016\n",
      "Epoch 49/50\n",
      "254/254 [==============================] - 67s 264ms/step - loss: 3.6436e-06 - mae: 0.0013 - mape: 7.0291 - rmse: 0.0019 - val_loss: 2.7451e-06 - val_mae: 0.0012 - val_mape: 4.0557 - val_rmse: 0.0016\n",
      "Epoch 50/50\n",
      "254/254 [==============================] - 57s 223ms/step - loss: 3.5173e-06 - mae: 0.0013 - mape: 6.9160 - rmse: 0.0018 - val_loss: 2.6618e-06 - val_mae: 0.0012 - val_mape: 3.9705 - val_rmse: 0.0016\n"
     ]
    }
   ],
   "source": [
    "model = RNNModel()\n",
    "model.set_hyperparameters(n_hidden_units_per_layer=10, learning_rate=0.001, eta=1E-8, loss='mean_squared_error',\n",
    "                          metrics=['mae', tf.keras.metrics.MeanAbsolutePercentageError(name=\"mape\"), tf.keras.metrics.RootMeanSquaredError(name=\"rmse\")],\n",
    "                            epochs=50, batch_size=64, decay_rate=1E-6, n_encoder_depth=1,\n",
    "                          n_decoder_depth=1, n_int_layer_depth=1)\n",
    "model.build_model(X_train.shape, Y_train.shape)\n",
    "model.compile_model()\n",
    "model.train(X_train, Y_train)\n",
    "trained_model = model.get_model()\n",
    "history = model.get_history()"
   ]
  },
  {
   "cell_type": "code",
   "execution_count": 57,
   "metadata": {},
   "outputs": [
    {
     "name": "stdout",
     "output_type": "stream",
     "text": [
      "71/71 [==============================] - 17s 168ms/step - loss: 2.7580e-06 - mae: 0.0012 - mape: 5.0414 - rmse: 0.0016\n"
     ]
    }
   ],
   "source": [
    "# Evaluate the model on the test set\n",
    "test_loss = trained_model.evaluate([X_test, Y_test], Y_test)"
   ]
  },
  {
   "cell_type": "code",
   "execution_count": 59,
   "metadata": {},
   "outputs": [
    {
     "data": {
      "image/png": "[encoded data removed]",
      "text/plain": [
       "<Figure size 640x480 with 1 Axes>"
      ]
     },
     "metadata": {},
     "output_type": "display_data"
    },
    {
     "data": {
      "image/png": "[encoded data removed]",
      "text/plain": [
       "<Figure size 640x480 with 1 Axes>"
      ]
     },
     "metadata": {},
     "output_type": "display_data"
    },
    {
     "data": {
      "image/png": "[encoded data removed]",
      "text/plain": [
       "<Figure size 640x480 with 1 Axes>"
      ]
     },
     "metadata": {},
     "output_type": "display_data"
    }
   ],
   "source": [
    "    # Plot the training loss\n",
    "plt.plot(history.history['loss'])\n",
    "plt.plot(history.history['val_loss'], color=\"red\")\n",
    "plt.title('Loss')\n",
    "plt.xlabel('Epochs')\n",
    "plt.ylabel('Loss')\n",
    "plt.show()\n",
    "\n",
    "plt.plot(history.history['mape'])\n",
    "plt.plot(history.history['val_mape'], color=\"red\")\n",
    "plt.title('Mape')\n",
    "plt.xlabel('Epochs')\n",
    "plt.ylabel('MAPE %')\n",
    "plt.show()\n",
    "\n",
    "plt.plot(history.history['rmse'])\n",
    "plt.plot(history.history['val_rmse'], color=\"red\")\n",
    "plt.title('RMSE')\n",
    "plt.xlabel('Epochs')\n",
    "plt.ylabel('RMSE %')\n",
    "plt.show()"
   ]
  }
 ],
 "metadata": {
  "kernelspec": {
   "display_name": "Python 3.10 (tensorflow)",
   "language": "python",
   "name": "tensorflow"
  },
  "language_info": {
   "codemirror_mode": {
    "name": "ipython",
    "version": 3
   },
   "file_extension": ".py",
   "mimetype": "text/x-python",
   "name": "python",
   "nbconvert_exporter": "python",
   "pygments_lexer": "ipython3",
   "version": "3.10.9"
  },
  "orig_nbformat": 4
 },
 "nbformat": 4,
 "nbformat_minor": 2
}
