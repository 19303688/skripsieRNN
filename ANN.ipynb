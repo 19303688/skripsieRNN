{
 "cells": [
  {
   "cell_type": "code",
   "execution_count": 2,
   "metadata": {},
   "outputs": [
    {
     "name": "stdout",
     "output_type": "stream",
     "text": [
      "Python Platform: macOS-13.3.1-arm64-arm-64bit\n",
      "Tensor Flow Version: 2.9.0\n",
      "Keras Version: 2.9.0\n",
      "\n",
      "Python 3.10.9 | packaged by conda-forge | (main, Feb  2 2023, 20:26:08) [Clang 14.0.6 ]\n",
      "Pandas 1.5.3\n",
      "Scikit-Learn 1.2.2\n",
      "GPU is available\n"
     ]
    }
   ],
   "source": [
    "import sys\n",
    "\n",
    "import tensorflow.keras\n",
    "import pandas as pd\n",
    "import numpy as np\n",
    "import sklearn as sk\n",
    "import tensorflow as tf\n",
    "from tensorflow import keras\n",
    "from tensorflow.keras import layers\n",
    "import platform\n",
    "from sklearn.model_selection import train_test_split\n",
    "\n",
    "from sklearn.preprocessing import MinMaxScaler\n",
    "import matplotlib.pyplot as plt\n",
    "\n",
    "print(f\"Python Platform: {platform.platform()}\")\n",
    "print(f\"Tensor Flow Version: {tf.__version__}\")\n",
    "print(f\"Keras Version: {tensorflow.keras.__version__}\")\n",
    "print()\n",
    "print(f\"Python {sys.version}\")\n",
    "print(f\"Pandas {pd.__version__}\")\n",
    "print(f\"Scikit-Learn {sk.__version__}\")\n",
    "gpu = len(tf.config.list_physical_devices('GPU'))>0\n",
    "print(\"GPU is\", \"available\" if gpu else \"NOT AVAILABLE\")\n"
   ]
  },
  {
   "cell_type": "code",
   "execution_count": 29,
   "metadata": {},
   "outputs": [
    {
     "name": "stdout",
     "output_type": "stream",
     "text": [
      "32768\n"
     ]
    }
   ],
   "source": [
    "#Load data\n",
    "df = pd.read_csv('data_cleaned.csv')\n",
    "df = df.iloc[:, :16]\n",
    "print(len(df.index))\n",
    "\n",
    "#Instead of dropping rows where plant is off, convert the row to zero\n",
    "df.loc[df['Coal Input'] < 0] = 0\n",
    "\n",
    "# Prints a specified row of the df\n",
    "#print(df.iloc[[10000,20000]])"
   ]
  },
  {
   "cell_type": "code",
   "execution_count": 30,
   "metadata": {},
   "outputs": [],
   "source": [
    "# apply MinMaxScaler to the dataframe\n",
    "# scaler = MinMaxScaler()\n",
    "# scaled_df = scaler.fit_transform(df)\n",
    "\n",
    "# #convert the numpy scaled array back to a dataframe\n",
    "# df_scaled = pd.DataFrame(scaled_df, columns=df.columns)\n",
    "df_scaled = df"
   ]
  },
  {
   "cell_type": "code",
   "execution_count": 31,
   "metadata": {},
   "outputs": [
    {
     "name": "stdout",
     "output_type": "stream",
     "text": [
      "Number of datasets: 3\n",
      "Total number of rows: 31774\n"
     ]
    }
   ],
   "source": [
    "df_scaled['Power Plant On'] = (df_scaled['Coal Input'] > 0).astype(int)\n",
    "\n",
    "dataframes = []\n",
    "indices = []\n",
    "for index, row in df_scaled.iterrows():\n",
    "    if row['Power Plant On'] == 0:\n",
    "        if indices:\n",
    "            dataframes.append(df_scaled.loc[indices].copy())\n",
    "            indices = []\n",
    "    else:\n",
    "        indices.append(index)\n",
    "\n",
    "# Check if there are any remaining indices after the loop ends\n",
    "if indices:\n",
    "    dataframes.append(df_scaled.loc[indices].copy())\n",
    "\n",
    "# Print the number of different datasets and their lengths\n",
    "print(f\"Number of datasets: {len(dataframes)}\")\n",
    "#for i, dataset in enumerate(dataframes):\n",
    "    #print(f\"Dataset {i+1} length: {len(dataset)}\")\n",
    "\n",
    "# Calculate the total number of rows\n",
    "total_rows = sum(len(dataset) for dataset in dataframes)\n",
    "print(f\"Total number of rows: {total_rows}\")\n"
   ]
  },
  {
   "cell_type": "code",
   "execution_count": 36,
   "metadata": {},
   "outputs": [
    {
     "name": "stdout",
     "output_type": "stream",
     "text": [
      "Outliers count in ECO SYS FW Supply SATN T : 0\n",
      "Outliers count in Economizer SYS FW Supply P : 0\n",
      "Outliers count in HP Steam Average Temp : 0\n",
      "Outliers count in Hot R/H Average Temp : 0\n",
      "Outliers count in Live Steam TOT F : 0\n",
      "Outliers count in ATT 1 m_dot : 0\n",
      "Outliers count in ATT 2 m_dot : 118\n",
      "Outliers count in R/H ATT m_dot : 0\n",
      "Outliers count in AMB Air T : 77\n",
      "Outliers count in Coal Input : 0\n",
      "Outliers count in BLR Primary Air F : 0\n",
      "Outliers count in BLR Secondary Air Total F : 0\n",
      "Outliers count in OVR FIR CORR Air NOZ 71-73 F : 0\n",
      "Outliers count in OVR FIR CORR Air NOZ 74-76 F : 0\n",
      "Outliers count in OVR FIR CORR Air NOZ 81-83 F : 0\n",
      "Outliers count in OVR FIR CORR Air NOZ 84-86 F : 0\n",
      "Outliers count in Power Plant On : 994\n"
     ]
    }
   ],
   "source": [
    "# Iterate over each column in the DataFrame\n",
    "for column_name in df_scaled.columns:\n",
    "\n",
    "    # Calculate z-scores to identify outliers\n",
    "    z_scores = (df_scaled[column_name] - df_scaled[column_name].mean()) / df_scaled[column_name].std()\n",
    "    outliers_count = sum(abs(z_scores) > 3)  # Adjust the threshold as needed\n",
    "\n",
    "    # Print the count of outliers for the column\n",
    "    print(\"Outliers count in\", column_name, \":\", outliers_count)\n"
   ]
  },
  {
   "cell_type": "code",
   "execution_count": 6,
   "metadata": {},
   "outputs": [],
   "source": [
    "def timewindow_df(df, timeBackWindow, timeForwardWindow):\n",
    "    # timeBackWindow = 5\n",
    "    # timeForwardWindow = 2\n",
    "\n",
    "    # Define column names for the first part\n",
    "    cols_part1 = ['ECO SYS FW Supply SATN T', 'Economizer SYS FW Supply P', 'Live Steam TOT F',\n",
    "                  'AMB Air T', 'Coal Input', 'BLR Primary Air F', 'BLR Secondary Air Total F',\n",
    "                  'OVR FIR CORR Air NOZ 71-73 F', 'OVR FIR CORR Air NOZ 74-76 F',\n",
    "                  'OVR FIR CORR Air NOZ 81-83 F', 'OVR FIR CORR Air NOZ 84-86 F']\n",
    "    # Define column names for the second part\n",
    "    cols_part2 = ['HP Steam Average Temp', 'Hot R/H Average Temp', 'ATT 1 m_dot', 'ATT 2 m_dot', 'R/H ATT m_dot']\n",
    "    # Shift rows and concatenate for both parts\n",
    "    df_temp = pd.DataFrame()\n",
    "\n",
    "    for col in cols_part1 + cols_part2:\n",
    "        # Shift columns forward for the first part\n",
    "        if col in cols_part1:\n",
    "            df_new = pd.concat([df[col].shift(-i) for i in range(timeBackWindow-1, -1, -1)], axis=1, \n",
    "                               keys=[f'{col}-{i}' for i in range(timeBackWindow)])\n",
    "        # Shift columns backward for the second part\n",
    "        else:\n",
    "            shifted_cols = [df[col].shift(i) for i in range(timeForwardWindow)]\n",
    "            df_new = pd.concat(shifted_cols, axis=1, \n",
    "                               keys=[f'{col}+{i}' for i in range(timeForwardWindow)])\n",
    "        # Concatenate the resulting dataframe with df_temp, along the columns axis (axis=1)\n",
    "        df_temp = pd.concat([df_temp, df_new], axis=1)\n",
    "\n",
    "    return df_temp\n"
   ]
  },
  {
   "cell_type": "code",
   "execution_count": 7,
   "metadata": {},
   "outputs": [
    {
     "name": "stdout",
     "output_type": "stream",
     "text": [
      "Number of manipulated datasets: 32\n",
      "Total number of rows: 22565\n"
     ]
    }
   ],
   "source": [
    "#Time window the datasets\n",
    "manipulated_dataframes = []\n",
    "\n",
    "for df in dataframes:\n",
    "    manipulated_df = timewindow_df(df,5,2)\n",
    "    manipulated_dataframes.append(manipulated_df)\n",
    "\n",
    "\n",
    "# Print the number of rows for each dataset in the manipulated dataframes\n",
    "print(f\"Number of manipulated datasets: {len(manipulated_dataframes)}\")\n",
    "#for i, dataset in enumerate(manipulated_dataframes):\n",
    "    #print(f\"Manipulated Dataset {i+1} length: {len(dataset)}\")\n",
    "\n",
    "# Calculate the total number of rows across all the manipulated datasets\n",
    "total_rows = sum(len(dataset) for dataset in manipulated_dataframes)\n",
    "\n",
    "# Print the total number of rows\n",
    "print(f\"Total number of rows: {total_rows}\")"
   ]
  },
  {
   "cell_type": "code",
   "execution_count": 8,
   "metadata": {},
   "outputs": [
    {
     "name": "stdout",
     "output_type": "stream",
     "text": [
      "Number of manipulated datasets: 32\n",
      "Total number of rows: 22412\n"
     ]
    }
   ],
   "source": [
    "# Remove rows with NaN values from each dataframe\n",
    "manipulated_dataframes_cleaned = []\n",
    "for dataset in manipulated_dataframes:\n",
    "    cleaned_dataset = dataset.dropna()\n",
    "    manipulated_dataframes_cleaned.append(cleaned_dataset)\n",
    "\n",
    "# Print the number of rows for each dataset in the cleaned manipulated dataframes\n",
    "print(f\"Number of manipulated datasets: {len(manipulated_dataframes_cleaned)}\")\n",
    "#for i, dataset in enumerate(manipulated_dataframes_cleaned):\n",
    "    #print(f\"Manipulated Dataset {i+1} length: {len(dataset)}\")\n",
    "\n",
    "# Calculate the total number of rows across all the cleaned manipulated datasets\n",
    "total_rows = sum(len(dataset) for dataset in manipulated_dataframes_cleaned)\n",
    "\n",
    "# Print the total number of rows\n",
    "print(f\"Total number of rows: {total_rows}\")"
   ]
  },
  {
   "cell_type": "code",
   "execution_count": 9,
   "metadata": {},
   "outputs": [],
   "source": [
    "# Concat datasets\n",
    "processed_df = pd.concat(manipulated_dataframes_cleaned, ignore_index=True)"
   ]
  },
  {
   "cell_type": "code",
   "execution_count": 10,
   "metadata": {},
   "outputs": [
    {
     "data": {
      "text/html": [
       "<div>\n",
       "<style scoped>\n",
       "    .dataframe tbody tr th:only-of-type {\n",
       "        vertical-align: middle;\n",
       "    }\n",
       "\n",
       "    .dataframe tbody tr th {\n",
       "        vertical-align: top;\n",
       "    }\n",
       "\n",
       "    .dataframe thead th {\n",
       "        text-align: right;\n",
       "    }\n",
       "</style>\n",
       "<table border=\"1\" class=\"dataframe\">\n",
       "  <thead>\n",
       "    <tr style=\"text-align: right;\">\n",
       "      <th></th>\n",
       "      <th>ECO SYS FW Supply SATN T-0</th>\n",
       "      <th>ECO SYS FW Supply SATN T-1</th>\n",
       "      <th>ECO SYS FW Supply SATN T-2</th>\n",
       "      <th>ECO SYS FW Supply SATN T-3</th>\n",
       "      <th>ECO SYS FW Supply SATN T-4</th>\n",
       "      <th>Economizer SYS FW Supply P-0</th>\n",
       "      <th>Economizer SYS FW Supply P-1</th>\n",
       "      <th>Economizer SYS FW Supply P-2</th>\n",
       "      <th>Economizer SYS FW Supply P-3</th>\n",
       "      <th>Economizer SYS FW Supply P-4</th>\n",
       "      <th>...</th>\n",
       "      <th>HP Steam Average Temp+0</th>\n",
       "      <th>HP Steam Average Temp+1</th>\n",
       "      <th>Hot R/H Average Temp+0</th>\n",
       "      <th>Hot R/H Average Temp+1</th>\n",
       "      <th>ATT 1 m_dot+0</th>\n",
       "      <th>ATT 1 m_dot+1</th>\n",
       "      <th>ATT 2 m_dot+0</th>\n",
       "      <th>ATT 2 m_dot+1</th>\n",
       "      <th>R/H ATT m_dot+0</th>\n",
       "      <th>R/H ATT m_dot+1</th>\n",
       "    </tr>\n",
       "  </thead>\n",
       "  <tbody>\n",
       "    <tr>\n",
       "      <th>0</th>\n",
       "      <td>328.273865</td>\n",
       "      <td>327.268189</td>\n",
       "      <td>326.876099</td>\n",
       "      <td>325.125336</td>\n",
       "      <td>325.590851</td>\n",
       "      <td>12.379500</td>\n",
       "      <td>12.211500</td>\n",
       "      <td>12.148501</td>\n",
       "      <td>11.865001</td>\n",
       "      <td>11.959500</td>\n",
       "      <td>...</td>\n",
       "      <td>462.827087</td>\n",
       "      <td>448.472938</td>\n",
       "      <td>440.429176</td>\n",
       "      <td>433.766678</td>\n",
       "      <td>1.021098</td>\n",
       "      <td>8.820438</td>\n",
       "      <td>4.816306</td>\n",
       "      <td>7.129189</td>\n",
       "      <td>15.502309</td>\n",
       "      <td>11.206032</td>\n",
       "    </tr>\n",
       "    <tr>\n",
       "      <th>1</th>\n",
       "      <td>327.885803</td>\n",
       "      <td>328.273865</td>\n",
       "      <td>327.268189</td>\n",
       "      <td>326.876099</td>\n",
       "      <td>325.125336</td>\n",
       "      <td>12.274500</td>\n",
       "      <td>12.379500</td>\n",
       "      <td>12.211500</td>\n",
       "      <td>12.148501</td>\n",
       "      <td>11.865001</td>\n",
       "      <td>...</td>\n",
       "      <td>481.406250</td>\n",
       "      <td>462.827087</td>\n",
       "      <td>456.327087</td>\n",
       "      <td>440.429176</td>\n",
       "      <td>5.002522</td>\n",
       "      <td>1.021098</td>\n",
       "      <td>7.593607</td>\n",
       "      <td>4.816306</td>\n",
       "      <td>15.191876</td>\n",
       "      <td>15.502309</td>\n",
       "    </tr>\n",
       "    <tr>\n",
       "      <th>2</th>\n",
       "      <td>327.885803</td>\n",
       "      <td>327.885803</td>\n",
       "      <td>328.273865</td>\n",
       "      <td>327.268189</td>\n",
       "      <td>326.876099</td>\n",
       "      <td>12.348000</td>\n",
       "      <td>12.274500</td>\n",
       "      <td>12.379500</td>\n",
       "      <td>12.211500</td>\n",
       "      <td>12.148501</td>\n",
       "      <td>...</td>\n",
       "      <td>495.272934</td>\n",
       "      <td>481.406250</td>\n",
       "      <td>471.439591</td>\n",
       "      <td>456.327087</td>\n",
       "      <td>7.204206</td>\n",
       "      <td>5.002522</td>\n",
       "      <td>7.306595</td>\n",
       "      <td>7.593607</td>\n",
       "      <td>17.742356</td>\n",
       "      <td>15.191876</td>\n",
       "    </tr>\n",
       "    <tr>\n",
       "      <th>3</th>\n",
       "      <td>328.756805</td>\n",
       "      <td>327.885803</td>\n",
       "      <td>327.885803</td>\n",
       "      <td>328.273865</td>\n",
       "      <td>327.268189</td>\n",
       "      <td>12.458251</td>\n",
       "      <td>12.348000</td>\n",
       "      <td>12.274500</td>\n",
       "      <td>12.379500</td>\n",
       "      <td>12.211500</td>\n",
       "      <td>...</td>\n",
       "      <td>511.604164</td>\n",
       "      <td>495.272934</td>\n",
       "      <td>487.472931</td>\n",
       "      <td>471.439591</td>\n",
       "      <td>17.061391</td>\n",
       "      <td>7.204206</td>\n",
       "      <td>6.484607</td>\n",
       "      <td>7.306595</td>\n",
       "      <td>16.392641</td>\n",
       "      <td>17.742356</td>\n",
       "    </tr>\n",
       "    <tr>\n",
       "      <th>4</th>\n",
       "      <td>328.273865</td>\n",
       "      <td>328.756805</td>\n",
       "      <td>327.885803</td>\n",
       "      <td>327.885803</td>\n",
       "      <td>328.273865</td>\n",
       "      <td>12.416250</td>\n",
       "      <td>12.458251</td>\n",
       "      <td>12.348000</td>\n",
       "      <td>12.274500</td>\n",
       "      <td>12.379500</td>\n",
       "      <td>...</td>\n",
       "      <td>523.385437</td>\n",
       "      <td>511.604164</td>\n",
       "      <td>502.829185</td>\n",
       "      <td>487.472931</td>\n",
       "      <td>4.024954</td>\n",
       "      <td>17.061391</td>\n",
       "      <td>1.636576</td>\n",
       "      <td>6.484607</td>\n",
       "      <td>11.975489</td>\n",
       "      <td>16.392641</td>\n",
       "    </tr>\n",
       "  </tbody>\n",
       "</table>\n",
       "<p>5 rows × 65 columns</p>\n",
       "</div>"
      ],
      "text/plain": [
       "   ECO SYS FW Supply SATN T-0  ECO SYS FW Supply SATN T-1  \\\n",
       "0                  328.273865                  327.268189   \n",
       "1                  327.885803                  328.273865   \n",
       "2                  327.885803                  327.885803   \n",
       "3                  328.756805                  327.885803   \n",
       "4                  328.273865                  328.756805   \n",
       "\n",
       "   ECO SYS FW Supply SATN T-2  ECO SYS FW Supply SATN T-3  \\\n",
       "0                  326.876099                  325.125336   \n",
       "1                  327.268189                  326.876099   \n",
       "2                  328.273865                  327.268189   \n",
       "3                  327.885803                  328.273865   \n",
       "4                  327.885803                  327.885803   \n",
       "\n",
       "   ECO SYS FW Supply SATN T-4  Economizer SYS FW Supply P-0  \\\n",
       "0                  325.590851                     12.379500   \n",
       "1                  325.125336                     12.274500   \n",
       "2                  326.876099                     12.348000   \n",
       "3                  327.268189                     12.458251   \n",
       "4                  328.273865                     12.416250   \n",
       "\n",
       "   Economizer SYS FW Supply P-1  Economizer SYS FW Supply P-2  \\\n",
       "0                     12.211500                     12.148501   \n",
       "1                     12.379500                     12.211500   \n",
       "2                     12.274500                     12.379500   \n",
       "3                     12.348000                     12.274500   \n",
       "4                     12.458251                     12.348000   \n",
       "\n",
       "   Economizer SYS FW Supply P-3  Economizer SYS FW Supply P-4  ...  \\\n",
       "0                     11.865001                     11.959500  ...   \n",
       "1                     12.148501                     11.865001  ...   \n",
       "2                     12.211500                     12.148501  ...   \n",
       "3                     12.379500                     12.211500  ...   \n",
       "4                     12.274500                     12.379500  ...   \n",
       "\n",
       "   HP Steam Average Temp+0  HP Steam Average Temp+1  Hot R/H Average Temp+0  \\\n",
       "0               462.827087               448.472938              440.429176   \n",
       "1               481.406250               462.827087              456.327087   \n",
       "2               495.272934               481.406250              471.439591   \n",
       "3               511.604164               495.272934              487.472931   \n",
       "4               523.385437               511.604164              502.829185   \n",
       "\n",
       "   Hot R/H Average Temp+1  ATT 1 m_dot+0  ATT 1 m_dot+1  ATT 2 m_dot+0  \\\n",
       "0              433.766678       1.021098       8.820438       4.816306   \n",
       "1              440.429176       5.002522       1.021098       7.593607   \n",
       "2              456.327087       7.204206       5.002522       7.306595   \n",
       "3              471.439591      17.061391       7.204206       6.484607   \n",
       "4              487.472931       4.024954      17.061391       1.636576   \n",
       "\n",
       "   ATT 2 m_dot+1  R/H ATT m_dot+0  R/H ATT m_dot+1  \n",
       "0       7.129189        15.502309        11.206032  \n",
       "1       4.816306        15.191876        15.502309  \n",
       "2       7.593607        17.742356        15.191876  \n",
       "3       7.306595        16.392641        17.742356  \n",
       "4       6.484607        11.975489        16.392641  \n",
       "\n",
       "[5 rows x 65 columns]"
      ]
     },
     "execution_count": 10,
     "metadata": {},
     "output_type": "execute_result"
    }
   ],
   "source": [
    "processed_df.head()"
   ]
  },
  {
   "cell_type": "code",
   "execution_count": 11,
   "metadata": {},
   "outputs": [],
   "source": [
    "scaler = MinMaxScaler()\n",
    "scaled_df = scaler.fit_transform(processed_df)\n",
    "# #convert the numpy scaled array back to a dataframe\n",
    "processed_df = pd.DataFrame(scaled_df, columns=processed_df.columns)"
   ]
  },
  {
   "cell_type": "code",
   "execution_count": 12,
   "metadata": {},
   "outputs": [
    {
     "name": "stdout",
     "output_type": "stream",
     "text": [
      "Column 'ECO SYS FW Supply SATN T-0' has 1 zeros.\n",
      "Column 'ECO SYS FW Supply SATN T-1' has 1 zeros.\n",
      "Column 'ECO SYS FW Supply SATN T-2' has 1 zeros.\n",
      "Column 'ECO SYS FW Supply SATN T-3' has 1 zeros.\n",
      "Column 'ECO SYS FW Supply SATN T-4' has 1 zeros.\n",
      "Column 'Economizer SYS FW Supply P-0' has 2 zeros.\n",
      "Column 'Economizer SYS FW Supply P-1' has 2 zeros.\n",
      "Column 'Economizer SYS FW Supply P-2' has 2 zeros.\n",
      "Column 'Economizer SYS FW Supply P-3' has 2 zeros.\n",
      "Column 'Economizer SYS FW Supply P-4' has 2 zeros.\n",
      "Column 'Live Steam TOT F-0' has 1 zeros.\n",
      "Column 'Live Steam TOT F-1' has 1 zeros.\n",
      "Column 'Live Steam TOT F-2' has 1 zeros.\n",
      "Column 'Live Steam TOT F-3' has 1 zeros.\n",
      "Column 'Live Steam TOT F-4' has 1 zeros.\n",
      "Column 'AMB Air T-0' has 1 zeros.\n",
      "Column 'AMB Air T-1' has 1 zeros.\n",
      "Column 'AMB Air T-2' has 1 zeros.\n",
      "Column 'AMB Air T-3' has 1 zeros.\n",
      "Column 'AMB Air T-4' has 1 zeros.\n",
      "Column 'Coal Input-0' has 1 zeros.\n",
      "Column 'Coal Input-1' has 1 zeros.\n",
      "Column 'Coal Input-2' has 1 zeros.\n",
      "Column 'Coal Input-3' has 1 zeros.\n",
      "Column 'Coal Input-4' has 1 zeros.\n",
      "Column 'BLR Primary Air F-0' has 1 zeros.\n",
      "Column 'BLR Primary Air F-1' has 1 zeros.\n",
      "Column 'BLR Primary Air F-2' has 1 zeros.\n",
      "Column 'BLR Primary Air F-3' has 1 zeros.\n",
      "Column 'BLR Primary Air F-4' has 1 zeros.\n",
      "Column 'BLR Secondary Air Total F-0' has 1 zeros.\n",
      "Column 'BLR Secondary Air Total F-1' has 1 zeros.\n",
      "Column 'BLR Secondary Air Total F-2' has 1 zeros.\n",
      "Column 'BLR Secondary Air Total F-3' has 1 zeros.\n",
      "Column 'BLR Secondary Air Total F-4' has 1 zeros.\n",
      "Column 'OVR FIR CORR Air NOZ 71-73 F-0' has 4 zeros.\n",
      "Column 'OVR FIR CORR Air NOZ 71-73 F-1' has 4 zeros.\n",
      "Column 'OVR FIR CORR Air NOZ 71-73 F-2' has 4 zeros.\n",
      "Column 'OVR FIR CORR Air NOZ 71-73 F-3' has 4 zeros.\n",
      "Column 'OVR FIR CORR Air NOZ 71-73 F-4' has 4 zeros.\n",
      "Column 'OVR FIR CORR Air NOZ 74-76 F-0' has 2 zeros.\n",
      "Column 'OVR FIR CORR Air NOZ 74-76 F-1' has 2 zeros.\n",
      "Column 'OVR FIR CORR Air NOZ 74-76 F-2' has 2 zeros.\n",
      "Column 'OVR FIR CORR Air NOZ 74-76 F-3' has 2 zeros.\n",
      "Column 'OVR FIR CORR Air NOZ 74-76 F-4' has 2 zeros.\n",
      "Column 'OVR FIR CORR Air NOZ 81-83 F-0' has 1 zeros.\n",
      "Column 'OVR FIR CORR Air NOZ 81-83 F-1' has 1 zeros.\n",
      "Column 'OVR FIR CORR Air NOZ 81-83 F-2' has 1 zeros.\n",
      "Column 'OVR FIR CORR Air NOZ 81-83 F-3' has 1 zeros.\n",
      "Column 'OVR FIR CORR Air NOZ 81-83 F-4' has 1 zeros.\n",
      "Column 'OVR FIR CORR Air NOZ 84-86 F-0' has 1 zeros.\n",
      "Column 'OVR FIR CORR Air NOZ 84-86 F-1' has 1 zeros.\n",
      "Column 'OVR FIR CORR Air NOZ 84-86 F-2' has 1 zeros.\n",
      "Column 'OVR FIR CORR Air NOZ 84-86 F-3' has 1 zeros.\n",
      "Column 'OVR FIR CORR Air NOZ 84-86 F-4' has 1 zeros.\n",
      "Column 'HP Steam Average Temp+0' has 1 zeros.\n",
      "Column 'HP Steam Average Temp+1' has 1 zeros.\n",
      "Column 'Hot R/H Average Temp+0' has 1 zeros.\n",
      "Column 'Hot R/H Average Temp+1' has 1 zeros.\n",
      "Column 'ATT 1 m_dot+0' has 7 zeros.\n",
      "Column 'ATT 1 m_dot+1' has 10 zeros.\n",
      "Column 'ATT 2 m_dot+0' has 1 zeros.\n",
      "Column 'ATT 2 m_dot+1' has 2 zeros.\n",
      "Column 'R/H ATT m_dot+0' has 2 zeros.\n",
      "Column 'R/H ATT m_dot+1' has 3 zeros.\n"
     ]
    }
   ],
   "source": [
    "# Iterate over each column\n",
    "\n",
    "for column in processed_df.columns:\n",
    "    # Count the occurrence of each unique value\n",
    "    value_counts = processed_df[column].value_counts()\n",
    "    # Check if zero is present and get its count\n",
    "    zero_count = value_counts[0] if 0 in value_counts.index else 0\n",
    "    \n",
    "    # Print the count of zeros for the column\n",
    "    print(f\"Column '{column}' has {zero_count} zeros.\")\n"
   ]
  },
  {
   "cell_type": "code",
   "execution_count": 13,
   "metadata": {},
   "outputs": [
    {
     "name": "stdout",
     "output_type": "stream",
     "text": [
      "True\n",
      "(22412, 55)\n",
      "(22412, 10)\n",
      "Adapated\n",
      "(20170, 55)\n",
      "(2242, 55)\n",
      "(20170, 10)\n",
      "(2242, 10)\n"
     ]
    }
   ],
   "source": [
    "#Split data into the test\n",
    "# x_data = df[['ECO SYS FW Supply SATN T', 'Economizer SYS FW Supply P', 'Live Steam TOT F','AMB Air T','Coal Input',\n",
    "#              'BLR Primary Air F','BLR Secondary Air Total F','OVR FIR CORR Air NOZ 71-73 F','OVR FIR CORR Air NOZ 74-76 F',\n",
    "#              'OVR FIR CORR Air NOZ 81-83 F','OVR FIR CORR Air NOZ 84-86 F',]].values\n",
    "# y_data = df[['HP Steam Average Temp', 'Hot R/H Average Temp', 'ATT 1 m_dot', 'ATT 2 m_dot', 'R/H ATT m_dot']].values\n",
    "\n",
    "# Train the model on each dataset separately\n",
    "\n",
    "# num_datasets = len(manipulated_dataframes_cleaned)\n",
    "# num_train_datasets = round(num_datasets * 0.9)\n",
    "\n",
    "x_cols = 5 * 11  # Adjust this based on the time windowing performed\n",
    "x_data = processed_df.iloc[:, :x_cols].values\n",
    "y_data = processed_df.iloc[:, x_cols:].values\n",
    "\n",
    "print(\"True\")\n",
    "print(x_data.shape)\n",
    "print(y_data.shape)\n",
    "\n",
    "print(\"Adapated\")\n",
    "x_train = x_data[:int(0.9*x_data.shape[0]),:]\n",
    "print(x_train.shape)\n",
    "x_test = x_data[int(0.9*x_data.shape[0]):,:]\n",
    "print(x_test.shape)\n",
    "y_train = y_data[:int(0.9*y_data.shape[0]),:]\n",
    "print(y_train.shape)\n",
    "y_test = y_data[int(0.9*y_data.shape[0]):,:]\n",
    "print(y_test.shape)\n"
   ]
  },
  {
   "cell_type": "code",
   "execution_count": 14,
   "metadata": {},
   "outputs": [],
   "source": [
    "# model = keras.models.Sequential()\n",
    "# # Add the input layer\n",
    "# model.add(keras.layers.Dense(units=64, input_shape=(55,), activation='relu'))\n",
    "\n",
    "# # Add the hidden layers\n",
    "# for units in [32,16]:\n",
    "#     model.add(keras.layers.Dense(units, activation='relu'))\n",
    "\n",
    "# # Add the output layer\n",
    "# model.add(keras.layers.Dense(10, activation='linear'))\n",
    "\n",
    "\n",
    "# loss_fn = tf.keras.losses.MeanSquaredError()\n",
    "# optimizer = tf.keras.optimizers.Adam(learning_rate=0.00005)\n",
    "# model.compile(optimizer=optimizer, loss=loss_fn, metrics=[tf.keras.metrics.MeanAbsolutePercentageError(), tf.keras.metrics.RootMeanSquaredError()])\n",
    "\n",
    "# model.summary()\n",
    "\n",
    "# hist = model.fit(x_train, y_train, epochs=50, batch_size=32, validation_split=0.2)"
   ]
  },
  {
   "cell_type": "code",
   "execution_count": 16,
   "metadata": {},
   "outputs": [
    {
     "name": "stdout",
     "output_type": "stream",
     "text": [
      "Model: \"my_neural_network_1\"\n",
      "_________________________________________________________________\n",
      " Layer (type)                Output Shape              Param #   \n",
      "=================================================================\n",
      " dense_4 (Dense)             multiple                  3584      \n",
      "                                                                 \n",
      " dense_5 (Dense)             multiple                  2080      \n",
      "                                                                 \n",
      " dense_6 (Dense)             multiple                  528       \n",
      "                                                                 \n",
      " dense_7 (Dense)             multiple                  170       \n",
      "                                                                 \n",
      "=================================================================\n",
      "Total params: 6,362\n",
      "Trainable params: 6,362\n",
      "Non-trainable params: 0\n",
      "_________________________________________________________________\n"
     ]
    }
   ],
   "source": [
    "class MyNeuralNetwork(keras.Model):\n",
    "    def __init__(self):\n",
    "        super(MyNeuralNetwork, self).__init__()\n",
    "        self.input_layer = keras.layers.Dense(units=64, input_shape=(55,), activation='relu')\n",
    "        self.hidden_layers = [keras.layers.Dense(units=32, activation='relu'),\n",
    "                              keras.layers.Dense(units=16, activation='relu')]\n",
    "        self.output_layer = keras.layers.Dense(units=10, activation='linear')\n",
    "\n",
    "    def call(self, inputs):\n",
    "        x = self.input_layer(inputs)\n",
    "        for layer in self.hidden_layers:\n",
    "            x = layer(x)\n",
    "        output = self.output_layer(x)\n",
    "        return output\n",
    "\n",
    "model = MyNeuralNetwork()\n",
    "\n",
    "loss_fn = tf.keras.losses.MeanSquaredError()\n",
    "optimizer = tf.keras.optimizers.Adam(learning_rate=0.00005)\n",
    "model.compile(optimizer=optimizer, loss=loss_fn, metrics=[tf.keras.metrics.MeanAbsolutePercentageError(), tf.keras.metrics.RootMeanSquaredError()])\n",
    "\n",
    "# Build the model before training\n",
    "model.build((None, 55))\n",
    "\n",
    "# Define EarlyStopping callback\n",
    "early_stopping = tf.keras.callbacks.EarlyStopping(monitor='val_loss', patience=5, restore_best_weights=True)\n"
   ]
  },
  {
   "cell_type": "code",
   "execution_count": 17,
   "metadata": {},
   "outputs": [
    {
     "name": "stdout",
     "output_type": "stream",
     "text": [
      "Epoch 1/50\n"
     ]
    },
    {
     "name": "stderr",
     "output_type": "stream",
     "text": [
      "2023-05-23 20:32:50.502567: W tensorflow/core/platform/profile_utils/cpu_utils.cc:128] Failed to get CPU frequency: 0 Hz\n"
     ]
    },
    {
     "name": "stdout",
     "output_type": "stream",
     "text": [
      "  1/505 [..............................] - ETA: 3:56 - loss: 0.6859 - mean_absolute_percentage_error: 107.4724 - root_mean_squared_error: 0.8282"
     ]
    },
    {
     "name": "stderr",
     "output_type": "stream",
     "text": [
      "2023-05-23 20:32:50.784589: I tensorflow/core/grappler/optimizers/custom_graph_optimizer_registry.cc:113] Plugin optimizer for device_type GPU is enabled.\n"
     ]
    },
    {
     "name": "stdout",
     "output_type": "stream",
     "text": [
      "505/505 [==============================] - ETA: 0s - loss: 0.3019 - mean_absolute_percentage_error: 30579.8535 - root_mean_squared_error: 0.5495"
     ]
    },
    {
     "name": "stderr",
     "output_type": "stream",
     "text": [
      "2023-05-23 20:32:53.710150: I tensorflow/core/grappler/optimizers/custom_graph_optimizer_registry.cc:113] Plugin optimizer for device_type GPU is enabled.\n"
     ]
    },
    {
     "name": "stdout",
     "output_type": "stream",
     "text": [
      "505/505 [==============================] - 4s 6ms/step - loss: 0.3019 - mean_absolute_percentage_error: 30579.8535 - root_mean_squared_error: 0.5495 - val_loss: 0.1067 - val_mean_absolute_percentage_error: 23652.6992 - val_root_mean_squared_error: 0.3266\n",
      "Epoch 2/50\n",
      "505/505 [==============================] - 3s 6ms/step - loss: 0.0536 - mean_absolute_percentage_error: 59590.0625 - root_mean_squared_error: 0.2315 - val_loss: 0.0257 - val_mean_absolute_percentage_error: 30189.2168 - val_root_mean_squared_error: 0.1604\n",
      "Epoch 3/50\n",
      "505/505 [==============================] - 3s 6ms/step - loss: 0.0211 - mean_absolute_percentage_error: 62179.5273 - root_mean_squared_error: 0.1452 - val_loss: 0.0233 - val_mean_absolute_percentage_error: 32316.5293 - val_root_mean_squared_error: 0.1526\n",
      "Epoch 4/50\n",
      "505/505 [==============================] - 3s 6ms/step - loss: 0.0191 - mean_absolute_percentage_error: 63772.6016 - root_mean_squared_error: 0.1383 - val_loss: 0.0222 - val_mean_absolute_percentage_error: 34529.5703 - val_root_mean_squared_error: 0.1491\n",
      "Epoch 5/50\n",
      "505/505 [==============================] - 3s 6ms/step - loss: 0.0176 - mean_absolute_percentage_error: 65615.7656 - root_mean_squared_error: 0.1325 - val_loss: 0.0209 - val_mean_absolute_percentage_error: 35493.5625 - val_root_mean_squared_error: 0.1446\n",
      "Epoch 6/50\n",
      "505/505 [==============================] - 3s 6ms/step - loss: 0.0160 - mean_absolute_percentage_error: 66594.7031 - root_mean_squared_error: 0.1264 - val_loss: 0.0203 - val_mean_absolute_percentage_error: 35994.7500 - val_root_mean_squared_error: 0.1426\n",
      "Epoch 7/50\n",
      "505/505 [==============================] - 3s 6ms/step - loss: 0.0146 - mean_absolute_percentage_error: 67050.7266 - root_mean_squared_error: 0.1209 - val_loss: 0.0185 - val_mean_absolute_percentage_error: 37679.3398 - val_root_mean_squared_error: 0.1360\n",
      "Epoch 8/50\n",
      "505/505 [==============================] - 3s 6ms/step - loss: 0.0135 - mean_absolute_percentage_error: 67410.5859 - root_mean_squared_error: 0.1162 - val_loss: 0.0179 - val_mean_absolute_percentage_error: 37641.7383 - val_root_mean_squared_error: 0.1337\n",
      "Epoch 9/50\n",
      "505/505 [==============================] - 3s 6ms/step - loss: 0.0127 - mean_absolute_percentage_error: 68115.6797 - root_mean_squared_error: 0.1128 - val_loss: 0.0171 - val_mean_absolute_percentage_error: 37999.0352 - val_root_mean_squared_error: 0.1307\n",
      "Epoch 10/50\n",
      "505/505 [==============================] - 3s 6ms/step - loss: 0.0122 - mean_absolute_percentage_error: 68385.0312 - root_mean_squared_error: 0.1102 - val_loss: 0.0167 - val_mean_absolute_percentage_error: 37780.7969 - val_root_mean_squared_error: 0.1293\n",
      "Epoch 11/50\n",
      "505/505 [==============================] - 3s 6ms/step - loss: 0.0117 - mean_absolute_percentage_error: 67657.4062 - root_mean_squared_error: 0.1083 - val_loss: 0.0163 - val_mean_absolute_percentage_error: 38698.7969 - val_root_mean_squared_error: 0.1275\n",
      "Epoch 12/50\n",
      "505/505 [==============================] - 3s 6ms/step - loss: 0.0114 - mean_absolute_percentage_error: 66838.5625 - root_mean_squared_error: 0.1067 - val_loss: 0.0161 - val_mean_absolute_percentage_error: 39285.0078 - val_root_mean_squared_error: 0.1271\n",
      "Epoch 13/50\n",
      "505/505 [==============================] - 3s 6ms/step - loss: 0.0111 - mean_absolute_percentage_error: 66595.4297 - root_mean_squared_error: 0.1055 - val_loss: 0.0158 - val_mean_absolute_percentage_error: 39767.9531 - val_root_mean_squared_error: 0.1258\n",
      "Epoch 14/50\n",
      "505/505 [==============================] - 3s 6ms/step - loss: 0.0109 - mean_absolute_percentage_error: 65492.5195 - root_mean_squared_error: 0.1046 - val_loss: 0.0154 - val_mean_absolute_percentage_error: 40724.4844 - val_root_mean_squared_error: 0.1243\n",
      "Epoch 15/50\n",
      "505/505 [==============================] - 3s 6ms/step - loss: 0.0108 - mean_absolute_percentage_error: 65055.5625 - root_mean_squared_error: 0.1038 - val_loss: 0.0153 - val_mean_absolute_percentage_error: 40269.4453 - val_root_mean_squared_error: 0.1236\n",
      "Epoch 16/50\n",
      "505/505 [==============================] - 3s 6ms/step - loss: 0.0107 - mean_absolute_percentage_error: 64366.0273 - root_mean_squared_error: 0.1032 - val_loss: 0.0152 - val_mean_absolute_percentage_error: 41136.0273 - val_root_mean_squared_error: 0.1233\n",
      "Epoch 17/50\n",
      "505/505 [==============================] - 3s 6ms/step - loss: 0.0105 - mean_absolute_percentage_error: 63868.3359 - root_mean_squared_error: 0.1027 - val_loss: 0.0152 - val_mean_absolute_percentage_error: 40902.2773 - val_root_mean_squared_error: 0.1234\n",
      "Epoch 18/50\n",
      "505/505 [==============================] - 3s 6ms/step - loss: 0.0105 - mean_absolute_percentage_error: 63364.4453 - root_mean_squared_error: 0.1023 - val_loss: 0.0157 - val_mean_absolute_percentage_error: 40312.5195 - val_root_mean_squared_error: 0.1253\n",
      "Epoch 19/50\n",
      "505/505 [==============================] - 3s 6ms/step - loss: 0.0104 - mean_absolute_percentage_error: 62290.7539 - root_mean_squared_error: 0.1020 - val_loss: 0.0152 - val_mean_absolute_percentage_error: 40588.3828 - val_root_mean_squared_error: 0.1234\n",
      "Epoch 20/50\n",
      "505/505 [==============================] - 3s 6ms/step - loss: 0.0103 - mean_absolute_percentage_error: 62350.1094 - root_mean_squared_error: 0.1017 - val_loss: 0.0149 - val_mean_absolute_percentage_error: 40527.6914 - val_root_mean_squared_error: 0.1221\n",
      "Epoch 21/50\n",
      "505/505 [==============================] - 3s 6ms/step - loss: 0.0103 - mean_absolute_percentage_error: 61563.9766 - root_mean_squared_error: 0.1014 - val_loss: 0.0152 - val_mean_absolute_percentage_error: 40709.4375 - val_root_mean_squared_error: 0.1233\n",
      "Epoch 22/50\n",
      "505/505 [==============================] - 3s 6ms/step - loss: 0.0102 - mean_absolute_percentage_error: 60854.1094 - root_mean_squared_error: 0.1012 - val_loss: 0.0149 - val_mean_absolute_percentage_error: 41130.1836 - val_root_mean_squared_error: 0.1222\n",
      "Epoch 23/50\n",
      "505/505 [==============================] - 3s 6ms/step - loss: 0.0102 - mean_absolute_percentage_error: 60547.4180 - root_mean_squared_error: 0.1010 - val_loss: 0.0151 - val_mean_absolute_percentage_error: 40916.4766 - val_root_mean_squared_error: 0.1227\n",
      "Epoch 24/50\n",
      "505/505 [==============================] - 3s 6ms/step - loss: 0.0102 - mean_absolute_percentage_error: 59932.2383 - root_mean_squared_error: 0.1008 - val_loss: 0.0150 - val_mean_absolute_percentage_error: 41104.6055 - val_root_mean_squared_error: 0.1225\n",
      "Epoch 25/50\n",
      "505/505 [==============================] - 3s 6ms/step - loss: 0.0101 - mean_absolute_percentage_error: 59488.0938 - root_mean_squared_error: 0.1006 - val_loss: 0.0153 - val_mean_absolute_percentage_error: 41263.5273 - val_root_mean_squared_error: 0.1239\n",
      "Epoch 26/50\n",
      "505/505 [==============================] - 3s 6ms/step - loss: 0.0101 - mean_absolute_percentage_error: 58978.0664 - root_mean_squared_error: 0.1005 - val_loss: 0.0150 - val_mean_absolute_percentage_error: 41509.2617 - val_root_mean_squared_error: 0.1225\n",
      "Epoch 27/50\n",
      "505/505 [==============================] - 3s 6ms/step - loss: 0.0101 - mean_absolute_percentage_error: 58595.9688 - root_mean_squared_error: 0.1003 - val_loss: 0.0151 - val_mean_absolute_percentage_error: 40689.4023 - val_root_mean_squared_error: 0.1231\n",
      "Epoch 28/50\n",
      "505/505 [==============================] - 3s 6ms/step - loss: 0.0100 - mean_absolute_percentage_error: 58256.5703 - root_mean_squared_error: 0.1001 - val_loss: 0.0156 - val_mean_absolute_percentage_error: 40566.3789 - val_root_mean_squared_error: 0.1250\n",
      "Epoch 29/50\n",
      "505/505 [==============================] - 3s 5ms/step - loss: 0.0100 - mean_absolute_percentage_error: 58348.3281 - root_mean_squared_error: 0.1000 - val_loss: 0.0147 - val_mean_absolute_percentage_error: 41734.1406 - val_root_mean_squared_error: 0.1211\n",
      "Epoch 30/50\n",
      "505/505 [==============================] - 3s 6ms/step - loss: 0.0100 - mean_absolute_percentage_error: 57359.9141 - root_mean_squared_error: 0.0998 - val_loss: 0.0154 - val_mean_absolute_percentage_error: 41216.1602 - val_root_mean_squared_error: 0.1239\n",
      "Epoch 31/50\n",
      "505/505 [==============================] - 3s 5ms/step - loss: 0.0099 - mean_absolute_percentage_error: 57006.6484 - root_mean_squared_error: 0.0997 - val_loss: 0.0149 - val_mean_absolute_percentage_error: 41072.9688 - val_root_mean_squared_error: 0.1219\n",
      "Epoch 32/50\n",
      "505/505 [==============================] - 3s 6ms/step - loss: 0.0099 - mean_absolute_percentage_error: 57009.7070 - root_mean_squared_error: 0.0997 - val_loss: 0.0154 - val_mean_absolute_percentage_error: 40417.0000 - val_root_mean_squared_error: 0.1242\n",
      "Epoch 33/50\n",
      "505/505 [==============================] - 3s 6ms/step - loss: 0.0099 - mean_absolute_percentage_error: 56060.4062 - root_mean_squared_error: 0.0995 - val_loss: 0.0149 - val_mean_absolute_percentage_error: 41600.6758 - val_root_mean_squared_error: 0.1220\n",
      "Epoch 34/50\n",
      "505/505 [==============================] - 3s 6ms/step - loss: 0.0099 - mean_absolute_percentage_error: 56074.8945 - root_mean_squared_error: 0.0994 - val_loss: 0.0154 - val_mean_absolute_percentage_error: 40410.2266 - val_root_mean_squared_error: 0.1243\n",
      "Epoch 35/50\n",
      "505/505 [==============================] - 3s 6ms/step - loss: 0.0099 - mean_absolute_percentage_error: 55437.6680 - root_mean_squared_error: 0.0993 - val_loss: 0.0151 - val_mean_absolute_percentage_error: 42131.7188 - val_root_mean_squared_error: 0.1231\n",
      "Epoch 36/50\n",
      "505/505 [==============================] - 3s 6ms/step - loss: 0.0098 - mean_absolute_percentage_error: 55495.9922 - root_mean_squared_error: 0.0992 - val_loss: 0.0155 - val_mean_absolute_percentage_error: 41033.5039 - val_root_mean_squared_error: 0.1244\n",
      "Epoch 37/50\n",
      "505/505 [==============================] - 3s 6ms/step - loss: 0.0098 - mean_absolute_percentage_error: 54861.5938 - root_mean_squared_error: 0.0991 - val_loss: 0.0150 - val_mean_absolute_percentage_error: 41735.8047 - val_root_mean_squared_error: 0.1226\n",
      "Epoch 38/50\n",
      "505/505 [==============================] - 3s 6ms/step - loss: 0.0098 - mean_absolute_percentage_error: 54927.1875 - root_mean_squared_error: 0.0990 - val_loss: 0.0149 - val_mean_absolute_percentage_error: 41829.8750 - val_root_mean_squared_error: 0.1221\n",
      "Epoch 39/50\n",
      "505/505 [==============================] - 3s 6ms/step - loss: 0.0098 - mean_absolute_percentage_error: 54114.8008 - root_mean_squared_error: 0.0989 - val_loss: 0.0148 - val_mean_absolute_percentage_error: 41374.3633 - val_root_mean_squared_error: 0.1217\n",
      "Epoch 40/50\n",
      "505/505 [==============================] - 3s 6ms/step - loss: 0.0098 - mean_absolute_percentage_error: 54264.4453 - root_mean_squared_error: 0.0988 - val_loss: 0.0151 - val_mean_absolute_percentage_error: 41767.7695 - val_root_mean_squared_error: 0.1227\n",
      "Epoch 41/50\n",
      "505/505 [==============================] - 3s 6ms/step - loss: 0.0097 - mean_absolute_percentage_error: 53845.0508 - root_mean_squared_error: 0.0987 - val_loss: 0.0148 - val_mean_absolute_percentage_error: 41954.0430 - val_root_mean_squared_error: 0.1218\n",
      "Epoch 42/50\n",
      "505/505 [==============================] - 3s 6ms/step - loss: 0.0097 - mean_absolute_percentage_error: 53857.4023 - root_mean_squared_error: 0.0986 - val_loss: 0.0144 - val_mean_absolute_percentage_error: 42988.5508 - val_root_mean_squared_error: 0.1199\n",
      "Epoch 43/50\n",
      "505/505 [==============================] - 3s 6ms/step - loss: 0.0097 - mean_absolute_percentage_error: 53754.2773 - root_mean_squared_error: 0.0986 - val_loss: 0.0145 - val_mean_absolute_percentage_error: 42352.2773 - val_root_mean_squared_error: 0.1205\n",
      "Epoch 44/50\n",
      "505/505 [==============================] - 3s 6ms/step - loss: 0.0097 - mean_absolute_percentage_error: 53652.6484 - root_mean_squared_error: 0.0985 - val_loss: 0.0146 - val_mean_absolute_percentage_error: 42567.9805 - val_root_mean_squared_error: 0.1210\n",
      "Epoch 45/50\n",
      "505/505 [==============================] - 3s 6ms/step - loss: 0.0097 - mean_absolute_percentage_error: 53257.2422 - root_mean_squared_error: 0.0983 - val_loss: 0.0149 - val_mean_absolute_percentage_error: 41866.1758 - val_root_mean_squared_error: 0.1221\n",
      "Epoch 46/50\n",
      "505/505 [==============================] - 3s 6ms/step - loss: 0.0097 - mean_absolute_percentage_error: 52858.7383 - root_mean_squared_error: 0.0983 - val_loss: 0.0151 - val_mean_absolute_percentage_error: 41952.4570 - val_root_mean_squared_error: 0.1229\n",
      "Epoch 47/50\n",
      "505/505 [==============================] - 3s 6ms/step - loss: 0.0096 - mean_absolute_percentage_error: 52998.0938 - root_mean_squared_error: 0.0982 - val_loss: 0.0148 - val_mean_absolute_percentage_error: 41621.2305 - val_root_mean_squared_error: 0.1217\n",
      "Epoch 48/50\n",
      "505/505 [==============================] - 3s 6ms/step - loss: 0.0096 - mean_absolute_percentage_error: 52632.2539 - root_mean_squared_error: 0.0981 - val_loss: 0.0161 - val_mean_absolute_percentage_error: 41688.9883 - val_root_mean_squared_error: 0.1268\n",
      "Epoch 49/50\n",
      "505/505 [==============================] - 3s 6ms/step - loss: 0.0096 - mean_absolute_percentage_error: 52673.5469 - root_mean_squared_error: 0.0981 - val_loss: 0.0152 - val_mean_absolute_percentage_error: 41964.9688 - val_root_mean_squared_error: 0.1231\n",
      "Epoch 50/50\n",
      "505/505 [==============================] - 3s 6ms/step - loss: 0.0096 - mean_absolute_percentage_error: 52355.4922 - root_mean_squared_error: 0.0980 - val_loss: 0.0151 - val_mean_absolute_percentage_error: 42255.0000 - val_root_mean_squared_error: 0.1230\n"
     ]
    }
   ],
   "source": [
    "\n",
    "hist = model.fit(x_train, y_train, epochs=50, batch_size=32, validation_split=0.2)\n"
   ]
  },
  {
   "cell_type": "code",
   "execution_count": 19,
   "metadata": {},
   "outputs": [
    {
     "name": "stdout",
     "output_type": "stream",
     "text": [
      "71/71 [==============================] - 0s 4ms/step - loss: 0.0125 - mean_absolute_percentage_error: 16.7030 - root_mean_squared_error: 0.1119\n"
     ]
    }
   ],
   "source": [
    "loss, MAPE, RMSE = model.evaluate(x_test, y_test)"
   ]
  },
  {
   "cell_type": "code",
   "execution_count": 20,
   "metadata": {},
   "outputs": [
    {
     "name": "stdout",
     "output_type": "stream",
     "text": [
      "71/71 [==============================] - 0s 2ms/step\n"
     ]
    },
    {
     "name": "stderr",
     "output_type": "stream",
     "text": [
      "2023-05-23 20:38:43.950152: I tensorflow/core/grappler/optimizers/custom_graph_optimizer_registry.cc:113] Plugin optimizer for device_type GPU is enabled.\n"
     ]
    }
   ],
   "source": [
    "forecast = model.predict(x_test)\n"
   ]
  },
  {
   "cell_type": "code",
   "execution_count": 29,
   "metadata": {},
   "outputs": [
    {
     "data": {
      "image/png": "[encoded data removed]",
      "text/plain": [
       "<Figure size 640x480 with 1 Axes>"
      ]
     },
     "metadata": {},
     "output_type": "display_data"
    },
    {
     "data": {
      "image/png": "[encoded data removed]",
      "text/plain": [
       "<Figure size 640x480 with 1 Axes>"
      ]
     },
     "metadata": {},
     "output_type": "display_data"
    },
    {
     "data": {
      "image/png": "[encoded data removed]",
      "text/plain": [
       "<Figure size 640x480 with 1 Axes>"
      ]
     },
     "metadata": {},
     "output_type": "display_data"
    }
   ],
   "source": [
    "# Plot the training loss\n",
    "plt.plot(hist.history['loss'])\n",
    "plt.plot(hist.history['val_loss'], color=\"red\")\n",
    "plt.title('Loss')\n",
    "plt.xlabel('Epochs')\n",
    "plt.ylabel('Loss')\n",
    "plt.show()\n",
    "\n",
    "# Plot the training metrics\n",
    "plt.plot(hist.history['mean_absolute_percentage_error'])\n",
    "plt.plot(hist.history['val_mean_absolute_percentage_error'], color=\"red\")\n",
    "plt.title('Mean Absolute Percentage Error')\n",
    "plt.xlabel('Epochs')\n",
    "plt.ylabel('MAPE')\n",
    "plt.show()\n",
    "\n",
    "# Plot the training metrics\n",
    "plt.plot(hist.history['root_mean_squared_error'])\n",
    "plt.plot(hist.history['val_root_mean_squared_error'], color=\"red\")\n",
    "plt.title('Root Mean Squared Error')\n",
    "plt.xlabel('Epochs')\n",
    "plt.ylabel('RMSE')\n",
    "plt.show()\n"
   ]
  }
 ],
 "metadata": {
  "kernelspec": {
   "display_name": "Python 3.10 (tensorflow)",
   "language": "python",
   "name": "tensorflow"
  },
  "language_info": {
   "codemirror_mode": {
    "name": "ipython",
    "version": 3
   },
   "file_extension": ".py",
   "mimetype": "text/x-python",
   "name": "python",
   "nbconvert_exporter": "python",
   "pygments_lexer": "ipython3",
   "version": "3.10.9"
  },
  "orig_nbformat": 4
 },
 "nbformat": 4,
 "nbformat_minor": 2
}
